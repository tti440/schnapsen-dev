{
 "cells": [
  {
   "cell_type": "code",
   "execution_count": 1,
   "metadata": {},
   "outputs": [],
   "source": [
    "import pandas as pd\n",
    "import joblib\n",
    "from sklearn.neighbors import KNeighborsClassifier\n",
    "from sklearn.model_selection import train_test_split"
   ]
  },
  {
   "cell_type": "code",
   "execution_count": 2,
   "metadata": {},
   "outputs": [],
   "source": [
    "replay_memory_location_bully = \"ML_replay_memories/bully_bully_30k_games_for_rollout.txt\"\n",
    "replay_memory_location_rand = \"ML_replay_memories/random_random_30k_games_for_rollout.txt\"\n",
    "replay_memory_location_rdeep = \"ML_replay_memories/rdeep_rdeep_30k_games_for_rollout.txt\"\n",
    "replay_memory_location_2nd_bot = \"ML_replay_memories/2ndBot_2ndBot_30k_games_for_rollout.txt\""
   ]
  },
  {
   "cell_type": "code",
   "execution_count": 3,
   "metadata": {},
   "outputs": [],
   "source": [
    "# labbels\n",
    "# 0 rand_bot\n",
    "# 1 bully_bot\n",
    "# 2 rdeep_bot\n",
    "# 3 2nd_bot"
   ]
  },
  {
   "cell_type": "code",
   "execution_count": 4,
   "metadata": {},
   "outputs": [],
   "source": [
    "data_rand: list[list[int]] = []\n",
    "targets_rand: list[int] = []\n",
    "with open(file=replay_memory_location_rand, mode=\"r\") as replay_memory_file:\n",
    "    for line in replay_memory_file:\n",
    "        feature_string, won_label_str = line.split(\"||\")\n",
    "        feature_list_strings: list[str] = feature_string.split(\",\")\n",
    "        feature_list = [float(feature) for feature in feature_list_strings]\n",
    "        won_label = int(won_label_str)\n",
    "        data_rand.append(feature_list)\n",
    "        targets_rand.append(0)"
   ]
  },
  {
   "cell_type": "code",
   "execution_count": 5,
   "metadata": {},
   "outputs": [],
   "source": [
    "data_bully: list[list[int]] = []\n",
    "targets_bully: list[int] = []\n",
    "with open(file=replay_memory_location_bully, mode=\"r\") as replay_memory_file:\n",
    "    for line in replay_memory_file:\n",
    "        feature_string, won_label_str = line.split(\"||\")\n",
    "        feature_list_strings: list[str] = feature_string.split(\",\")\n",
    "        feature_list = [float(feature) for feature in feature_list_strings]\n",
    "        won_label = int(won_label_str)\n",
    "        data_bully.append(feature_list)\n",
    "        targets_bully.append(1)"
   ]
  },
  {
   "cell_type": "code",
   "execution_count": 6,
   "metadata": {},
   "outputs": [],
   "source": [
    "data_rdeep: list[list[int]] = []\n",
    "targets_rdeep: list[int] = []\n",
    "with open(file=replay_memory_location_rdeep, mode=\"r\") as replay_memory_file:\n",
    "    for line in replay_memory_file:\n",
    "        feature_string, won_label_str = line.split(\"||\")\n",
    "        feature_list_strings: list[str] = feature_string.split(\",\")\n",
    "        feature_list = [float(feature) for feature in feature_list_strings]\n",
    "        won_label = int(won_label_str)\n",
    "        data_rdeep.append(feature_list)\n",
    "        targets_rdeep.append(2)"
   ]
  },
  {
   "cell_type": "code",
   "execution_count": 7,
   "metadata": {},
   "outputs": [],
   "source": [
    "data_2ndBot: list[list[int]] = []\n",
    "targets_2ndBot: list[int] = []\n",
    "with open(file=replay_memory_location_2nd_bot, mode=\"r\") as replay_memory_file:\n",
    "    for line in replay_memory_file:\n",
    "        feature_string, won_label_str = line.split(\"||\")\n",
    "        feature_list_strings: list[str] = feature_string.split(\",\")\n",
    "        feature_list = [float(feature) for feature in feature_list_strings]\n",
    "        won_label = int(won_label_str)\n",
    "        data_2ndBot.append(feature_list)\n",
    "        targets_2ndBot.append(3)"
   ]
  },
  {
   "cell_type": "code",
   "execution_count": 8,
   "metadata": {},
   "outputs": [],
   "source": [
    "data = data_rand + data_bully + data_rdeep + data_2ndBot\n",
    "target = targets_rand + targets_bully + targets_rdeep + targets_2ndBot"
   ]
  },
  {
   "cell_type": "code",
   "execution_count": 9,
   "metadata": {},
   "outputs": [],
   "source": [
    "train_data, test_data, train_targets, test_targets = train_test_split(data, target, test_size = 0.3, random_state=4545, shuffle = True)"
   ]
  },
  {
   "cell_type": "code",
   "execution_count": 14,
   "metadata": {},
   "outputs": [],
   "source": [
    "model = KNeighborsClassifier(n_neighbors=5)\n"
   ]
  },
  {
   "cell_type": "code",
   "execution_count": 16,
   "metadata": {},
   "outputs": [
    {
     "data": {
      "text/plain": [
       "KNeighborsClassifier()"
      ]
     },
     "execution_count": 16,
     "metadata": {},
     "output_type": "execute_result"
    }
   ],
   "source": [
    "model.fit(train_data,train_targets)"
   ]
  },
  {
   "cell_type": "code",
   "execution_count": 18,
   "metadata": {},
   "outputs": [
    {
     "data": {
      "text/plain": [
       "0.5608373003118057"
      ]
     },
     "execution_count": 18,
     "metadata": {},
     "output_type": "execute_result"
    }
   ],
   "source": [
    "model.score(test_data, test_targets)"
   ]
  },
  {
   "cell_type": "code",
   "execution_count": 17,
   "metadata": {},
   "outputs": [
    {
     "data": {
      "text/plain": [
       "['ML_models/KNN_model']"
      ]
     },
     "execution_count": 17,
     "metadata": {},
     "output_type": "execute_result"
    }
   ],
   "source": [
    "model_location = \"ML_models/KNN_model\"\n",
    "joblib.dump(model, model_location)"
   ]
  },
  {
   "cell_type": "code",
   "execution_count": 24,
   "metadata": {},
   "outputs": [],
   "source": [
    "import numpy as np"
   ]
  },
  {
   "cell_type": "code",
   "execution_count": 41,
   "metadata": {},
   "outputs": [],
   "source": [
    "pred = model.predict(test_data[:20])"
   ]
  },
  {
   "cell_type": "code",
   "execution_count": 43,
   "metadata": {},
   "outputs": [],
   "source": [
    "pred = list(pred)"
   ]
  },
  {
   "cell_type": "code",
   "execution_count": 44,
   "metadata": {},
   "outputs": [
    {
     "data": {
      "text/plain": [
       "1"
      ]
     },
     "execution_count": 44,
     "metadata": {},
     "output_type": "execute_result"
    }
   ],
   "source": [
    "max(set(pred), key = pred.count)"
   ]
  },
  {
   "cell_type": "code",
   "execution_count": 45,
   "metadata": {},
   "outputs": [
    {
     "data": {
      "text/plain": [
       "[0, 0, 1, 3, 0, 1, 1, 3, 1, 1, 0, 3, 1, 1, 0, 1, 2, 0, 1, 1]"
      ]
     },
     "execution_count": 45,
     "metadata": {},
     "output_type": "execute_result"
    }
   ],
   "source": [
    "pred"
   ]
  },
  {
   "cell_type": "code",
   "execution_count": 47,
   "metadata": {},
   "outputs": [],
   "source": [
    "import zipfile\n",
    "with zipfile.ZipFile('knn_model.zip', 'w') as myzip:\n",
    "    myzip.write(\"ML_models/KNN_model\")\n"
   ]
  },
  {
   "cell_type": "code",
   "execution_count": 55,
   "metadata": {},
   "outputs": [
    {
     "ename": "TypeError",
     "evalue": "object of type 'int' has no len()",
     "output_type": "error",
     "traceback": [
      "\u001b[1;31m---------------------------------------------------------------------------\u001b[0m",
      "\u001b[1;31mTypeError\u001b[0m                                 Traceback (most recent call last)",
      "Cell \u001b[1;32mIn[55], line 25\u001b[0m\n\u001b[0;32m     23\u001b[0m             wins \u001b[39m+\u001b[39m\u001b[39m=\u001b[39m \u001b[39m1\u001b[39m\n\u001b[0;32m     24\u001b[0m     result_rdeep\u001b[39m.\u001b[39mappend(wins)\n\u001b[1;32m---> 25\u001b[0m \u001b[39mprint\u001b[39m(\u001b[39mlen\u001b[39m(result_rdeep), \u001b[39mlen\u001b[39;49m(result_rdeep[\u001b[39m0\u001b[39;49m]))\n\u001b[0;32m     27\u001b[0m \u001b[39m#df_rdeepML = pd.DataFrame(result_rdeepML)\u001b[39;00m\n\u001b[0;32m     28\u001b[0m df_rdeep \u001b[39m=\u001b[39m pd\u001b[39m.\u001b[39mDataFrame(result_rdeep)\n",
      "\u001b[1;31mTypeError\u001b[0m: object of type 'int' has no len()"
     ]
    }
   ],
   "source": [
    "from src.schnapsen.game import (Bot, Move, PlayerPerspective,\n",
    "                            SchnapsenGamePlayEngine, Trump_Exchange)\n",
    "from src.schnapsen.bots import MLPlayingBot, RandBot, BullyBot, RdeepBot, SecondBot, RdeepMLBot\n",
    "import random\n",
    "\n",
    "engine = SchnapsenGamePlayEngine()\n",
    "rdeep = bot1 = RdeepMLBot(num_samples=5, depth=5, rand=random.Random(4564654644))\n",
    "rdeep = bot2 = RdeepBot(num_samples=8, depth=6, rand=random.Random(4564654644))\n",
    "bot = RandBot(random.Random(464566))\n",
    "bot4 = BullyBot(random.Random(464566))\n",
    "bot5 = SecondBot(random.Random(464566))\n",
    "amount = 100\n",
    "iter = 50\n",
    "result_rdeepML = []\n",
    "result_rdeep = []\n",
    "for i in range(iter):\n",
    "    wins = 0\n",
    "    for game_number in range(1, amount + 1):\n",
    "        if game_number % 2 == 0:\n",
    "            bot2, bot = bot, bot2\n",
    "        winner_id, _, _ = engine.play_game(bot2, bot, random.Random(game_number))\n",
    "        if winner_id == rdeep:\n",
    "            wins += 1\n",
    "    result_rdeep.append(wins)\n",
    "print(len(result_rdeep), len(result_rdeep[0]))\n",
    "\n",
    "#df_rdeepML = pd.DataFrame(result_rdeepML)\n",
    "df_rdeep = pd.DataFrame(result_rdeep)\n",
    "#df_rdeepML.to_csv(\"DataFrame_Experiment/df_rdeepML.csv\", index = False)\n",
    "#df_rdeep.to_csv(\"DataFrame_Experiment/df_rdeep.csv\", index = False)"
   ]
  },
  {
   "cell_type": "code",
   "execution_count": 57,
   "metadata": {},
   "outputs": [
    {
     "ename": "KeyboardInterrupt",
     "evalue": "",
     "output_type": "error",
     "traceback": [
      "\u001b[1;31m---------------------------------------------------------------------------\u001b[0m",
      "\u001b[1;31mKeyboardInterrupt\u001b[0m                         Traceback (most recent call last)",
      "Cell \u001b[1;32mIn[57], line 6\u001b[0m\n\u001b[0;32m      4\u001b[0m \u001b[39mif\u001b[39;00m game_number \u001b[39m%\u001b[39m \u001b[39m2\u001b[39m \u001b[39m==\u001b[39m \u001b[39m0\u001b[39m:\n\u001b[0;32m      5\u001b[0m     bot1, bot \u001b[39m=\u001b[39m bot, bot1\n\u001b[1;32m----> 6\u001b[0m winner_id, _, _ \u001b[39m=\u001b[39m engine\u001b[39m.\u001b[39;49mplay_game(bot1, bot, random\u001b[39m.\u001b[39;49mRandom(game_number))\n\u001b[0;32m      7\u001b[0m \u001b[39mif\u001b[39;00m winner_id \u001b[39m==\u001b[39m rdeep:\n\u001b[0;32m      8\u001b[0m     wins \u001b[39m+\u001b[39m\u001b[39m=\u001b[39m \u001b[39m1\u001b[39m\n",
      "File \u001b[1;32mc:\\Users\\crane\\OneDrive\\ドキュメント\\GitHub\\ProjectIS\\src\\schnapsen\\game.py:1964\u001b[0m, in \u001b[0;36mGamePlayEngine.play_game\u001b[1;34m(self, bot1, bot2, rng)\u001b[0m\n\u001b[0;32m   1956\u001b[0m follower_state \u001b[39m=\u001b[39m BotState(implementation\u001b[39m=\u001b[39mbot2, hand\u001b[39m=\u001b[39mhand2)\n\u001b[0;32m   1958\u001b[0m game_state \u001b[39m=\u001b[39m GameState(\n\u001b[0;32m   1959\u001b[0m     leader\u001b[39m=\u001b[39mleader_state,\n\u001b[0;32m   1960\u001b[0m     follower\u001b[39m=\u001b[39mfollower_state,\n\u001b[0;32m   1961\u001b[0m     talon\u001b[39m=\u001b[39mtalon,\n\u001b[0;32m   1962\u001b[0m     previous\u001b[39m=\u001b[39m\u001b[39mNone\u001b[39;00m\n\u001b[0;32m   1963\u001b[0m )\n\u001b[1;32m-> 1964\u001b[0m winner, points, score \u001b[39m=\u001b[39m \u001b[39mself\u001b[39;49m\u001b[39m.\u001b[39;49mplay_game_from_state(game_state\u001b[39m=\u001b[39;49mgame_state, leader_move\u001b[39m=\u001b[39;49m\u001b[39mNone\u001b[39;49;00m)\n\u001b[0;32m   1965\u001b[0m \u001b[39mreturn\u001b[39;00m winner, points, score\n",
      "File \u001b[1;32mc:\\Users\\crane\\OneDrive\\ドキュメント\\GitHub\\ProjectIS\\src\\schnapsen\\game.py:2002\u001b[0m, in \u001b[0;36mGamePlayEngine.play_game_from_state\u001b[1;34m(self, game_state, leader_move)\u001b[0m\n\u001b[0;32m   2000\u001b[0m         leader_move \u001b[39m=\u001b[39m \u001b[39mNone\u001b[39;00m\n\u001b[0;32m   2001\u001b[0m     \u001b[39melse\u001b[39;00m:\n\u001b[1;32m-> 2002\u001b[0m         game_state \u001b[39m=\u001b[39m \u001b[39mself\u001b[39;49m\u001b[39m.\u001b[39;49mtrick_implementer\u001b[39m.\u001b[39;49mplay_trick(\u001b[39mself\u001b[39;49m, game_state)\n\u001b[0;32m   2003\u001b[0m     winner, points \u001b[39m=\u001b[39m \u001b[39mself\u001b[39m\u001b[39m.\u001b[39mtrick_scorer\u001b[39m.\u001b[39mdeclare_winner(game_state) \u001b[39mor\u001b[39;00m (\u001b[39mNone\u001b[39;00m, \u001b[39m-\u001b[39m\u001b[39m1\u001b[39m)\n\u001b[0;32m   2005\u001b[0m winner_state \u001b[39m=\u001b[39m WinnerPerspective(game_state, \u001b[39mself\u001b[39m)\n",
      "File \u001b[1;32mc:\\Users\\crane\\OneDrive\\ドキュメント\\GitHub\\ProjectIS\\src\\schnapsen\\game.py:1567\u001b[0m, in \u001b[0;36mSchnapsenTrickImplementer.play_trick\u001b[1;34m(self, game_engine, game_state)\u001b[0m\n\u001b[0;32m   1566\u001b[0m \u001b[39mdef\u001b[39;00m \u001b[39mplay_trick\u001b[39m(\u001b[39mself\u001b[39m, game_engine: \u001b[39m'\u001b[39m\u001b[39mGamePlayEngine\u001b[39m\u001b[39m'\u001b[39m, game_state: GameState) \u001b[39m-\u001b[39m\u001b[39m>\u001b[39m GameState:\n\u001b[1;32m-> 1567\u001b[0m     leader_move \u001b[39m=\u001b[39m \u001b[39mself\u001b[39;49m\u001b[39m.\u001b[39;49mget_leader_move(game_engine, game_state)\n\u001b[0;32m   1568\u001b[0m     \u001b[39mreturn\u001b[39;00m \u001b[39mself\u001b[39m\u001b[39m.\u001b[39mplay_trick_with_fixed_leader_move(game_engine\u001b[39m=\u001b[39mgame_engine, game_state\u001b[39m=\u001b[39mgame_state, leader_move\u001b[39m=\u001b[39mleader_move)\n",
      "File \u001b[1;32mc:\\Users\\crane\\OneDrive\\ドキュメント\\GitHub\\ProjectIS\\src\\schnapsen\\game.py:1624\u001b[0m, in \u001b[0;36mSchnapsenTrickImplementer.get_leader_move\u001b[1;34m(self, game_engine, game_state)\u001b[0m\n\u001b[0;32m   1621\u001b[0m \u001b[39mdef\u001b[39;00m \u001b[39mget_leader_move\u001b[39m(\u001b[39mself\u001b[39m, game_engine: \u001b[39m'\u001b[39m\u001b[39mGamePlayEngine\u001b[39m\u001b[39m'\u001b[39m, game_state: \u001b[39m'\u001b[39m\u001b[39mGameState\u001b[39m\u001b[39m'\u001b[39m) \u001b[39m-\u001b[39m\u001b[39m>\u001b[39m Move:\n\u001b[0;32m   1622\u001b[0m     \u001b[39m# ask first players move trough the requester\u001b[39;00m\n\u001b[0;32m   1623\u001b[0m     leader_game_state \u001b[39m=\u001b[39m LeaderPerspective(game_state, game_engine)\n\u001b[1;32m-> 1624\u001b[0m     leader_move \u001b[39m=\u001b[39m game_engine\u001b[39m.\u001b[39;49mmove_requester\u001b[39m.\u001b[39;49mget_move(game_state\u001b[39m.\u001b[39;49mleader, leader_game_state, \u001b[39mNone\u001b[39;49;00m)\n\u001b[0;32m   1625\u001b[0m     \u001b[39mif\u001b[39;00m \u001b[39mnot\u001b[39;00m game_engine\u001b[39m.\u001b[39mmove_validator\u001b[39m.\u001b[39mis_legal_leader_move(game_engine, game_state, leader_move):\n\u001b[0;32m   1626\u001b[0m         \u001b[39mraise\u001b[39;00m \u001b[39mException\u001b[39;00m(\u001b[39mf\u001b[39m\u001b[39m\"\u001b[39m\u001b[39mLeader \u001b[39m\u001b[39m{\u001b[39;00mgame_state\u001b[39m.\u001b[39mleader\u001b[39m.\u001b[39mimplementation\u001b[39m}\u001b[39;00m\u001b[39m played an illegal move\u001b[39m\u001b[39m\"\u001b[39m)\n",
      "File \u001b[1;32mc:\\Users\\crane\\OneDrive\\ドキュメント\\GitHub\\ProjectIS\\src\\schnapsen\\game.py:1671\u001b[0m, in \u001b[0;36mSimpleMoveRequester.get_move\u001b[1;34m(self, bot, state, leader_move)\u001b[0m\n\u001b[0;32m   1670\u001b[0m \u001b[39mdef\u001b[39;00m \u001b[39mget_move\u001b[39m(\u001b[39mself\u001b[39m, bot: BotState, state: PlayerPerspective, leader_move: Optional[Move]) \u001b[39m-\u001b[39m\u001b[39m>\u001b[39m Move:\n\u001b[1;32m-> 1671\u001b[0m     \u001b[39mreturn\u001b[39;00m bot\u001b[39m.\u001b[39;49mget_move(state, leader_move\u001b[39m=\u001b[39;49mleader_move)\n",
      "File \u001b[1;32mc:\\Users\\crane\\OneDrive\\ドキュメント\\GitHub\\ProjectIS\\src\\schnapsen\\game.py:501\u001b[0m, in \u001b[0;36mBotState.get_move\u001b[1;34m(self, state, leader_move)\u001b[0m\n\u001b[0;32m    493\u001b[0m \u001b[39mdef\u001b[39;00m \u001b[39mget_move\u001b[39m(\u001b[39mself\u001b[39m, state: \u001b[39m'\u001b[39m\u001b[39mPlayerPerspective\u001b[39m\u001b[39m'\u001b[39m, leader_move: Optional[Move]) \u001b[39m-\u001b[39m\u001b[39m>\u001b[39m Move:\n\u001b[0;32m    494\u001b[0m \u001b[39m    \u001b[39m\u001b[39m\"\"\"\u001b[39;00m\n\u001b[0;32m    495\u001b[0m \u001b[39m    Gets the next move from the bot itself, passing it the state.\u001b[39;00m\n\u001b[0;32m    496\u001b[0m \u001b[39m    Does a quick check to make sure that the hand has the cards which are played. More advanced checks are performed outside of this call.\u001b[39;00m\n\u001b[1;32m   (...)\u001b[0m\n\u001b[0;32m    499\u001b[0m \u001b[39m    :returns: The move the both played\u001b[39;00m\n\u001b[0;32m    500\u001b[0m \u001b[39m    \"\"\"\u001b[39;00m\n\u001b[1;32m--> 501\u001b[0m     move \u001b[39m=\u001b[39m \u001b[39mself\u001b[39;49m\u001b[39m.\u001b[39;49mimplementation\u001b[39m.\u001b[39;49mget_move(state, leader_move\u001b[39m=\u001b[39;49mleader_move)\n\u001b[0;32m    502\u001b[0m     \u001b[39massert\u001b[39;00m move \u001b[39mis\u001b[39;00m \u001b[39mnot\u001b[39;00m \u001b[39mNone\u001b[39;00m, \u001b[39mf\u001b[39m\u001b[39m\"\u001b[39m\u001b[39mThe bot \u001b[39m\u001b[39m{\u001b[39;00m\u001b[39mself\u001b[39m\u001b[39m.\u001b[39mimplementation\u001b[39m}\u001b[39;00m\u001b[39m returned a move which is None\u001b[39m\u001b[39m\"\u001b[39m\n\u001b[0;32m    503\u001b[0m     \u001b[39mif\u001b[39;00m \u001b[39mnot\u001b[39;00m \u001b[39misinstance\u001b[39m(move, Move):\n",
      "File \u001b[1;32mc:\\Users\\crane\\OneDrive\\ドキュメント\\GitHub\\ProjectIS\\src\\schnapsen\\bots\\rdeep_ML.py:32\u001b[0m, in \u001b[0;36mRdeepMLBot.get_move\u001b[1;34m(self, state, leader_move)\u001b[0m\n\u001b[0;32m     30\u001b[0m best_score \u001b[39m=\u001b[39m \u001b[39mfloat\u001b[39m(\u001b[39m'\u001b[39m\u001b[39m-inf\u001b[39m\u001b[39m'\u001b[39m)\n\u001b[0;32m     31\u001b[0m best_move \u001b[39m=\u001b[39m \u001b[39mNone\u001b[39;00m\n\u001b[1;32m---> 32\u001b[0m model_path \u001b[39m=\u001b[39m \u001b[39mself\u001b[39;49m\u001b[39m.\u001b[39;49mpredict_opponent(state)\n\u001b[0;32m     33\u001b[0m \u001b[39mfor\u001b[39;00m move \u001b[39min\u001b[39;00m moves:\n\u001b[0;32m     34\u001b[0m     sum_of_scores \u001b[39m=\u001b[39m \u001b[39m0.0\u001b[39m\n",
      "File \u001b[1;32mc:\\Users\\crane\\OneDrive\\ドキュメント\\GitHub\\ProjectIS\\src\\schnapsen\\bots\\rdeep_ML.py:102\u001b[0m, in \u001b[0;36mRdeepMLBot.predict_opponent\u001b[1;34m(self, state)\u001b[0m\n\u001b[0;32m    100\u001b[0m \u001b[39mself\u001b[39m\u001b[39m.\u001b[39mprevious_state \u001b[39m+\u001b[39m\u001b[39m=\u001b[39m [state_actions_representation]\n\u001b[0;32m    101\u001b[0m model \u001b[39m=\u001b[39m joblib\u001b[39m.\u001b[39mload(\u001b[39m\"\u001b[39m\u001b[39mML_models/KNN_model\u001b[39m\u001b[39m\"\u001b[39m)\n\u001b[1;32m--> 102\u001b[0m pred \u001b[39m=\u001b[39m \u001b[39mlist\u001b[39m(model\u001b[39m.\u001b[39;49mpredict(\u001b[39mself\u001b[39;49m\u001b[39m.\u001b[39;49mprevious_state))\n\u001b[0;32m    103\u001b[0m index \u001b[39m=\u001b[39m \u001b[39mmax\u001b[39m(\u001b[39mset\u001b[39m(pred), key \u001b[39m=\u001b[39m pred\u001b[39m.\u001b[39mcount)\n\u001b[0;32m    104\u001b[0m \u001b[39mif\u001b[39;00m index \u001b[39m==\u001b[39m \u001b[39m0\u001b[39m:\n",
      "File \u001b[1;32mc:\\Users\\crane\\anaconda3\\envs\\IS_project\\lib\\site-packages\\sklearn\\neighbors\\_classification.py:214\u001b[0m, in \u001b[0;36mKNeighborsClassifier.predict\u001b[1;34m(self, X)\u001b[0m\n\u001b[0;32m    200\u001b[0m \u001b[39mdef\u001b[39;00m \u001b[39mpredict\u001b[39m(\u001b[39mself\u001b[39m, X):\n\u001b[0;32m    201\u001b[0m \u001b[39m    \u001b[39m\u001b[39m\"\"\"Predict the class labels for the provided data.\u001b[39;00m\n\u001b[0;32m    202\u001b[0m \n\u001b[0;32m    203\u001b[0m \u001b[39m    Parameters\u001b[39;00m\n\u001b[1;32m   (...)\u001b[0m\n\u001b[0;32m    212\u001b[0m \u001b[39m        Class labels for each data sample.\u001b[39;00m\n\u001b[0;32m    213\u001b[0m \u001b[39m    \"\"\"\u001b[39;00m\n\u001b[1;32m--> 214\u001b[0m     neigh_dist, neigh_ind \u001b[39m=\u001b[39m \u001b[39mself\u001b[39;49m\u001b[39m.\u001b[39;49mkneighbors(X)\n\u001b[0;32m    215\u001b[0m     classes_ \u001b[39m=\u001b[39m \u001b[39mself\u001b[39m\u001b[39m.\u001b[39mclasses_\n\u001b[0;32m    216\u001b[0m     _y \u001b[39m=\u001b[39m \u001b[39mself\u001b[39m\u001b[39m.\u001b[39m_y\n",
      "File \u001b[1;32mc:\\Users\\crane\\anaconda3\\envs\\IS_project\\lib\\site-packages\\sklearn\\neighbors\\_base.py:752\u001b[0m, in \u001b[0;36mKNeighborsMixin.kneighbors\u001b[1;34m(self, X, n_neighbors, return_distance)\u001b[0m\n\u001b[0;32m    749\u001b[0m     \u001b[39melse\u001b[39;00m:\n\u001b[0;32m    750\u001b[0m         kwds \u001b[39m=\u001b[39m \u001b[39mself\u001b[39m\u001b[39m.\u001b[39meffective_metric_params_\n\u001b[1;32m--> 752\u001b[0m     chunked_results \u001b[39m=\u001b[39m \u001b[39mlist\u001b[39;49m(\n\u001b[0;32m    753\u001b[0m         pairwise_distances_chunked(\n\u001b[0;32m    754\u001b[0m             X,\n\u001b[0;32m    755\u001b[0m             \u001b[39mself\u001b[39;49m\u001b[39m.\u001b[39;49m_fit_X,\n\u001b[0;32m    756\u001b[0m             reduce_func\u001b[39m=\u001b[39;49mreduce_func,\n\u001b[0;32m    757\u001b[0m             metric\u001b[39m=\u001b[39;49m\u001b[39mself\u001b[39;49m\u001b[39m.\u001b[39;49meffective_metric_,\n\u001b[0;32m    758\u001b[0m             n_jobs\u001b[39m=\u001b[39;49mn_jobs,\n\u001b[0;32m    759\u001b[0m             \u001b[39m*\u001b[39;49m\u001b[39m*\u001b[39;49mkwds,\n\u001b[0;32m    760\u001b[0m         )\n\u001b[0;32m    761\u001b[0m     )\n\u001b[0;32m    763\u001b[0m \u001b[39melif\u001b[39;00m \u001b[39mself\u001b[39m\u001b[39m.\u001b[39m_fit_method \u001b[39min\u001b[39;00m [\u001b[39m\"\u001b[39m\u001b[39mball_tree\u001b[39m\u001b[39m\"\u001b[39m, \u001b[39m\"\u001b[39m\u001b[39mkd_tree\u001b[39m\u001b[39m\"\u001b[39m]:\n\u001b[0;32m    764\u001b[0m     \u001b[39mif\u001b[39;00m issparse(X):\n",
      "File \u001b[1;32mc:\\Users\\crane\\anaconda3\\envs\\IS_project\\lib\\site-packages\\sklearn\\metrics\\pairwise.py:1717\u001b[0m, in \u001b[0;36mpairwise_distances_chunked\u001b[1;34m(X, Y, reduce_func, metric, n_jobs, working_memory, **kwds)\u001b[0m\n\u001b[0;32m   1715\u001b[0m \u001b[39melse\u001b[39;00m:\n\u001b[0;32m   1716\u001b[0m     X_chunk \u001b[39m=\u001b[39m X[sl]\n\u001b[1;32m-> 1717\u001b[0m D_chunk \u001b[39m=\u001b[39m pairwise_distances(X_chunk, Y, metric\u001b[39m=\u001b[39mmetric, n_jobs\u001b[39m=\u001b[39mn_jobs, \u001b[39m*\u001b[39m\u001b[39m*\u001b[39mkwds)\n\u001b[0;32m   1718\u001b[0m \u001b[39mif\u001b[39;00m (X \u001b[39mis\u001b[39;00m Y \u001b[39mor\u001b[39;00m Y \u001b[39mis\u001b[39;00m \u001b[39mNone\u001b[39;00m) \u001b[39mand\u001b[39;00m PAIRWISE_DISTANCE_FUNCTIONS\u001b[39m.\u001b[39mget(\n\u001b[0;32m   1719\u001b[0m     metric, \u001b[39mNone\u001b[39;00m\n\u001b[0;32m   1720\u001b[0m ) \u001b[39mis\u001b[39;00m euclidean_distances:\n\u001b[0;32m   1721\u001b[0m     \u001b[39m# zeroing diagonal, taking care of aliases of \"euclidean\",\u001b[39;00m\n\u001b[0;32m   1722\u001b[0m     \u001b[39m# i.e. \"l2\"\u001b[39;00m\n\u001b[0;32m   1723\u001b[0m     D_chunk\u001b[39m.\u001b[39mflat[sl\u001b[39m.\u001b[39mstart :: _num_samples(X) \u001b[39m+\u001b[39m \u001b[39m1\u001b[39m] \u001b[39m=\u001b[39m \u001b[39m0\u001b[39m\n",
      "File \u001b[1;32mc:\\Users\\crane\\anaconda3\\envs\\IS_project\\lib\\site-packages\\sklearn\\metrics\\pairwise.py:1889\u001b[0m, in \u001b[0;36mpairwise_distances\u001b[1;34m(X, Y, metric, n_jobs, force_all_finite, **kwds)\u001b[0m\n\u001b[0;32m   1886\u001b[0m         \u001b[39mreturn\u001b[39;00m distance\u001b[39m.\u001b[39msquareform(distance\u001b[39m.\u001b[39mpdist(X, metric\u001b[39m=\u001b[39mmetric, \u001b[39m*\u001b[39m\u001b[39m*\u001b[39mkwds))\n\u001b[0;32m   1887\u001b[0m     func \u001b[39m=\u001b[39m partial(distance\u001b[39m.\u001b[39mcdist, metric\u001b[39m=\u001b[39mmetric, \u001b[39m*\u001b[39m\u001b[39m*\u001b[39mkwds)\n\u001b[1;32m-> 1889\u001b[0m \u001b[39mreturn\u001b[39;00m _parallel_pairwise(X, Y, func, n_jobs, \u001b[39m*\u001b[39m\u001b[39m*\u001b[39mkwds)\n",
      "File \u001b[1;32mc:\\Users\\crane\\anaconda3\\envs\\IS_project\\lib\\site-packages\\sklearn\\metrics\\pairwise.py:1430\u001b[0m, in \u001b[0;36m_parallel_pairwise\u001b[1;34m(X, Y, func, n_jobs, **kwds)\u001b[0m\n\u001b[0;32m   1427\u001b[0m X, Y, dtype \u001b[39m=\u001b[39m _return_float_dtype(X, Y)\n\u001b[0;32m   1429\u001b[0m \u001b[39mif\u001b[39;00m effective_n_jobs(n_jobs) \u001b[39m==\u001b[39m \u001b[39m1\u001b[39m:\n\u001b[1;32m-> 1430\u001b[0m     \u001b[39mreturn\u001b[39;00m func(X, Y, \u001b[39m*\u001b[39m\u001b[39m*\u001b[39mkwds)\n\u001b[0;32m   1432\u001b[0m \u001b[39m# enforce a threading backend to prevent data communication overhead\u001b[39;00m\n\u001b[0;32m   1433\u001b[0m fd \u001b[39m=\u001b[39m delayed(_dist_wrapper)\n",
      "File \u001b[1;32mc:\\Users\\crane\\anaconda3\\envs\\IS_project\\lib\\site-packages\\sklearn\\metrics\\pairwise.py:330\u001b[0m, in \u001b[0;36meuclidean_distances\u001b[1;34m(X, Y, Y_norm_squared, squared, X_norm_squared)\u001b[0m\n\u001b[0;32m    324\u001b[0m     \u001b[39mif\u001b[39;00m Y_norm_squared\u001b[39m.\u001b[39mshape \u001b[39m!=\u001b[39m (\u001b[39m1\u001b[39m, Y\u001b[39m.\u001b[39mshape[\u001b[39m0\u001b[39m]):\n\u001b[0;32m    325\u001b[0m         \u001b[39mraise\u001b[39;00m \u001b[39mValueError\u001b[39;00m(\n\u001b[0;32m    326\u001b[0m             \u001b[39mf\u001b[39m\u001b[39m\"\u001b[39m\u001b[39mIncompatible dimensions for Y of shape \u001b[39m\u001b[39m{\u001b[39;00mY\u001b[39m.\u001b[39mshape\u001b[39m}\u001b[39;00m\u001b[39m and \u001b[39m\u001b[39m\"\u001b[39m\n\u001b[0;32m    327\u001b[0m             \u001b[39mf\u001b[39m\u001b[39m\"\u001b[39m\u001b[39mY_norm_squared of shape \u001b[39m\u001b[39m{\u001b[39;00moriginal_shape\u001b[39m}\u001b[39;00m\u001b[39m.\u001b[39m\u001b[39m\"\u001b[39m\n\u001b[0;32m    328\u001b[0m         )\n\u001b[1;32m--> 330\u001b[0m \u001b[39mreturn\u001b[39;00m _euclidean_distances(X, Y, X_norm_squared, Y_norm_squared, squared)\n",
      "File \u001b[1;32mc:\\Users\\crane\\anaconda3\\envs\\IS_project\\lib\\site-packages\\sklearn\\metrics\\pairwise.py:363\u001b[0m, in \u001b[0;36m_euclidean_distances\u001b[1;34m(X, Y, X_norm_squared, Y_norm_squared, squared)\u001b[0m\n\u001b[0;32m    361\u001b[0m         YY \u001b[39m=\u001b[39m \u001b[39mNone\u001b[39;00m\n\u001b[0;32m    362\u001b[0m     \u001b[39melse\u001b[39;00m:\n\u001b[1;32m--> 363\u001b[0m         YY \u001b[39m=\u001b[39m row_norms(Y, squared\u001b[39m=\u001b[39;49m\u001b[39mTrue\u001b[39;49;00m)[np\u001b[39m.\u001b[39mnewaxis, :]\n\u001b[0;32m    365\u001b[0m \u001b[39mif\u001b[39;00m X\u001b[39m.\u001b[39mdtype \u001b[39m==\u001b[39m np\u001b[39m.\u001b[39mfloat32:\n\u001b[0;32m    366\u001b[0m     \u001b[39m# To minimize precision issues with float32, we compute the distance\u001b[39;00m\n\u001b[0;32m    367\u001b[0m     \u001b[39m# matrix on chunks of X and Y upcast to float64\u001b[39;00m\n\u001b[0;32m    368\u001b[0m     distances \u001b[39m=\u001b[39m _euclidean_distances_upcast(X, XX, Y, YY)\n",
      "File \u001b[1;32mc:\\Users\\crane\\anaconda3\\envs\\IS_project\\lib\\site-packages\\sklearn\\utils\\extmath.py:76\u001b[0m, in \u001b[0;36mrow_norms\u001b[1;34m(X, squared)\u001b[0m\n\u001b[0;32m     74\u001b[0m     norms \u001b[39m=\u001b[39m csr_row_norms(X)\n\u001b[0;32m     75\u001b[0m \u001b[39melse\u001b[39;00m:\n\u001b[1;32m---> 76\u001b[0m     norms \u001b[39m=\u001b[39m np\u001b[39m.\u001b[39;49meinsum(\u001b[39m\"\u001b[39;49m\u001b[39mij,ij->i\u001b[39;49m\u001b[39m\"\u001b[39;49m, X, X)\n\u001b[0;32m     78\u001b[0m \u001b[39mif\u001b[39;00m \u001b[39mnot\u001b[39;00m squared:\n\u001b[0;32m     79\u001b[0m     np\u001b[39m.\u001b[39msqrt(norms, norms)\n",
      "File \u001b[1;32m<__array_function__ internals>:180\u001b[0m, in \u001b[0;36meinsum\u001b[1;34m(*args, **kwargs)\u001b[0m\n",
      "File \u001b[1;32mc:\\Users\\crane\\anaconda3\\envs\\IS_project\\lib\\site-packages\\numpy\\core\\einsumfunc.py:1359\u001b[0m, in \u001b[0;36meinsum\u001b[1;34m(out, optimize, *operands, **kwargs)\u001b[0m\n\u001b[0;32m   1357\u001b[0m     \u001b[39mif\u001b[39;00m specified_out:\n\u001b[0;32m   1358\u001b[0m         kwargs[\u001b[39m'\u001b[39m\u001b[39mout\u001b[39m\u001b[39m'\u001b[39m] \u001b[39m=\u001b[39m out\n\u001b[1;32m-> 1359\u001b[0m     \u001b[39mreturn\u001b[39;00m c_einsum(\u001b[39m*\u001b[39moperands, \u001b[39m*\u001b[39m\u001b[39m*\u001b[39mkwargs)\n\u001b[0;32m   1361\u001b[0m \u001b[39m# Check the kwargs to avoid a more cryptic error later, without having to\u001b[39;00m\n\u001b[0;32m   1362\u001b[0m \u001b[39m# repeat default values here\u001b[39;00m\n\u001b[0;32m   1363\u001b[0m valid_einsum_kwargs \u001b[39m=\u001b[39m [\u001b[39m'\u001b[39m\u001b[39mdtype\u001b[39m\u001b[39m'\u001b[39m, \u001b[39m'\u001b[39m\u001b[39morder\u001b[39m\u001b[39m'\u001b[39m, \u001b[39m'\u001b[39m\u001b[39mcasting\u001b[39m\u001b[39m'\u001b[39m]\n",
      "\u001b[1;31mKeyboardInterrupt\u001b[0m: "
     ]
    }
   ],
   "source": [
    "for i in range(iter):\n",
    "    wins = 0\n",
    "    for game_number in range(1, amount + 1):\n",
    "        if game_number % 2 == 0:\n",
    "            bot1, bot = bot, bot1\n",
    "        winner_id, _, _ = engine.play_game(bot1, bot, random.Random(game_number))\n",
    "        if winner_id == rdeep:\n",
    "            wins += 1\n",
    "    result_rdeepML.append(wins)\n",
    "print(len(result_rdeepML), len(result_rdeepML[0]))\n"
   ]
  },
  {
   "cell_type": "code",
   "execution_count": 10,
   "metadata": {},
   "outputs": [
    {
     "name": "stdout",
     "output_type": "stream",
     "text": [
      "50 Game has finished\n",
      "100 Game has finished\n",
      "150 Game has finished\n",
      "200 Game has finished\n"
     ]
    }
   ],
   "source": [
    "from binomial_experiment import binom_experiment\n",
    "result, p_value = binom_experiment(200, 6, 6)"
   ]
  },
  {
   "cell_type": "code",
   "execution_count": 11,
   "metadata": {},
   "outputs": [
    {
     "data": {
      "text/plain": [
       "116"
      ]
     },
     "execution_count": 11,
     "metadata": {},
     "output_type": "execute_result"
    }
   ],
   "source": [
    "result.k"
   ]
  },
  {
   "cell_type": "code",
   "execution_count": 12,
   "metadata": {},
   "outputs": [
    {
     "data": {
      "text/plain": [
       "0.014062703616463224"
      ]
     },
     "execution_count": 12,
     "metadata": {},
     "output_type": "execute_result"
    }
   ],
   "source": [
    "p_value"
   ]
  },
  {
   "cell_type": "code",
   "execution_count": 1,
   "metadata": {},
   "outputs": [
    {
     "name": "stdout",
     "output_type": "stream",
     "text": [
      "50 Game has finished\n",
      "100 Game has finished\n",
      "150 Game has finished\n",
      "200 Game has finished\n"
     ]
    }
   ],
   "source": [
    "from binomial_experiment import binom_experiment\n",
    "result1, p_value1 = binom_experiment(200, 12, 6)"
   ]
  },
  {
   "cell_type": "code",
   "execution_count": 2,
   "metadata": {},
   "outputs": [
    {
     "data": {
      "text/plain": [
       "99"
      ]
     },
     "execution_count": 2,
     "metadata": {},
     "output_type": "execute_result"
    }
   ],
   "source": [
    "result1.k"
   ]
  },
  {
   "cell_type": "code",
   "execution_count": 3,
   "metadata": {},
   "outputs": [
    {
     "data": {
      "text/plain": [
       "0.5839648127811196"
      ]
     },
     "execution_count": 3,
     "metadata": {},
     "output_type": "execute_result"
    }
   ],
   "source": [
    "p_value1"
   ]
  },
  {
   "cell_type": "code",
   "execution_count": 18,
   "metadata": {},
   "outputs": [],
   "source": [
    "from scipy.stats import binomtest\n",
    "\n",
    "a = binomtest(125, 200, 116/200, \"greater\")"
   ]
  },
  {
   "cell_type": "code",
   "execution_count": 19,
   "metadata": {},
   "outputs": [
    {
     "data": {
      "text/plain": [
       "0.11124914487141035"
      ]
     },
     "execution_count": 19,
     "metadata": {},
     "output_type": "execute_result"
    }
   ],
   "source": [
    "a.pvalue"
   ]
  },
  {
   "cell_type": "code",
   "execution_count": 1,
   "metadata": {},
   "outputs": [
    {
     "name": "stdout",
     "output_type": "stream",
     "text": [
      "50 Game has finished\n",
      "100 Game has finished\n",
      "150 Game has finished\n",
      "200 Game has finished\n",
      "50 Game has finished\n",
      "100 Game has finished\n",
      "150 Game has finished\n",
      "200 Game has finished\n"
     ]
    }
   ],
   "source": [
    "from proportion_ztest import prop_ztest\n",
    "import random\n",
    "from src.schnapsen.bots import MLPlayingBot, RandBot, BullyBot, RdeepBot, SecondBot\n",
    "import pathlib\n",
    "bot = BullyBot(random.Random(464566))\n",
    "result, p_value, win_rdeep, win_rdeepML = prop_ztest(bot, 200, samples=6, depth=6)"
   ]
  },
  {
   "cell_type": "code",
   "execution_count": 2,
   "metadata": {},
   "outputs": [
    {
     "data": {
      "text/plain": [
       "(172, 160)"
      ]
     },
     "execution_count": 2,
     "metadata": {},
     "output_type": "execute_result"
    }
   ],
   "source": [
    "win_rdeep, win_rdeepML"
   ]
  },
  {
   "cell_type": "code",
   "execution_count": 2,
   "metadata": {},
   "outputs": [
    {
     "data": {
      "text/plain": [
       "(0.06463289231004916, 176, 185)"
      ]
     },
     "execution_count": 2,
     "metadata": {},
     "output_type": "execute_result"
    }
   ],
   "source": [
    "p_value, win_rdeep, win_rdeepML"
   ]
  },
  {
   "cell_type": "code",
   "execution_count": 5,
   "metadata": {},
   "outputs": [
    {
     "name": "stdout",
     "output_type": "stream",
     "text": [
      "50 Game has finished\n",
      "100 Game has finished\n",
      "150 Game has finished\n",
      "200 Game has finished\n",
      "50 Game has finished\n",
      "100 Game has finished\n",
      "150 Game has finished\n",
      "200 Game has finished\n"
     ]
    }
   ],
   "source": [
    "import random\n",
    "from src.schnapsen.bots import MLPlayingBot, RandBot, BullyBot, RdeepBot, SecondBot, RdeepMLBot\n",
    "import pathlib\n",
    "from src.schnapsen.game import (Bot, Move, PlayerPerspective,\n",
    "                            SchnapsenGamePlayEngine, Trump_Exchange)\n",
    "amount = 200\n",
    "engine = SchnapsenGamePlayEngine()\n",
    "bot = BullyBot(random.Random(464566))\n",
    "rdeep_ML_count = []\n",
    "rdeep_count = []\n",
    "KNN_prediction = []\n",
    "win_rdeepML = 0\n",
    "win_rdeep = 0\n",
    "for game_number in range(1, amount + 1):\n",
    "    #rdeep_ML = bot1 = RdeepMLBot(num_samples=samples, depth=depth, rand=random.Random(4564654644))\n",
    "    rdeep_ML = bot1 = RdeepMLBot(num_samples=6, depth=6, rand=random.Random(4564654644))\n",
    "    bot2 = bot\n",
    "    if game_number % 2 == 0:\n",
    "        bot1, bot2 = bot2, bot1\n",
    "    winner_id, _, _ = engine.play_game(bot1, bot2, random.Random(game_number))\n",
    "    if winner_id == rdeep_ML:\n",
    "        win_rdeepML += 1\n",
    "    if game_number % 50 == 0:\n",
    "        print(str(game_number) + \" Game has finished\")\n",
    "    rdeep_ML_count += [sum(rdeep_ML.count)/len(rdeep_ML.count)]\n",
    "    KNN_prediction += [rdeep_ML.KNN_count[1]/sum(rdeep_ML.KNN_count)]\n",
    "for game_number in range(1, amount + 1):\n",
    "    #rdeep_ML = bot1 = RdeepMLBot(num_samples=samples, depth=depth, rand=random.Random(4564654644))\n",
    "    rdeep = bot1 = RdeepBot(num_samples=6, depth=6, rand=random.Random(4564654644))\n",
    "    bot2 = bot\n",
    "    if game_number % 2 == 0:\n",
    "        bot1, bot2 = bot2, bot1\n",
    "    winner_id, _, _ = engine.play_game(bot1, bot2, random.Random(game_number))\n",
    "    if winner_id == rdeep:\n",
    "        win_rdeep += 1\n",
    "    if game_number % 50 == 0:\n",
    "        print(str(game_number) + \" Game has finished\")\n",
    "    rdeep_count += [sum(rdeep.count)/len(rdeep.count)]"
   ]
  },
  {
   "cell_type": "code",
   "execution_count": 7,
   "metadata": {},
   "outputs": [
    {
     "data": {
      "text/plain": [
       "(53.64543650793651, 56.481628306878285, 57.007698412698396)"
      ]
     },
     "execution_count": 7,
     "metadata": {},
     "output_type": "execute_result"
    }
   ],
   "source": [
    "sum(KNN_prediction)/2, sum(rdeep_count)/2,sum(rdeep_ML_count)/2"
   ]
  },
  {
   "cell_type": "code",
   "execution_count": 8,
   "metadata": {},
   "outputs": [
    {
     "data": {
      "text/plain": [
       "(172, 174)"
      ]
     },
     "execution_count": 8,
     "metadata": {},
     "output_type": "execute_result"
    }
   ],
   "source": [
    "win_rdeepML, win_rdeep"
   ]
  },
  {
   "cell_type": "code",
   "execution_count": 9,
   "metadata": {},
   "outputs": [
    {
     "name": "stdout",
     "output_type": "stream",
     "text": [
      "50 Game has finished\n",
      "100 Game has finished\n",
      "50 Game has finished\n",
      "100 Game has finished\n"
     ]
    }
   ],
   "source": [
    "import random\n",
    "from src.schnapsen.bots import MLPlayingBot, RandBot, BullyBot, RdeepBot, SecondBot, RdeepMLBot\n",
    "import pathlib\n",
    "from src.schnapsen.game import (Bot, Move, PlayerPerspective,\n",
    "                            SchnapsenGamePlayEngine, Trump_Exchange)\n",
    "amount = 100\n",
    "engine = SchnapsenGamePlayEngine()\n",
    "bot = BullyBot(random.Random(464566))\n",
    "rdeep_ML_count = []\n",
    "rdeep_count = []\n",
    "KNN_prediction = []\n",
    "win_rdeepML = 0\n",
    "win_rdeep = 0\n",
    "for game_number in range(1, amount + 1):\n",
    "    #rdeep_ML = bot1 = RdeepMLBot(num_samples=samples, depth=depth, rand=random.Random(4564654644))\n",
    "    rdeep_ML = bot1 = RdeepMLBot(num_samples=12, depth=10, rand=random.Random(4564654644))\n",
    "    bot2 = bot\n",
    "    if game_number % 2 == 0:\n",
    "        bot1, bot2 = bot2, bot1\n",
    "    winner_id, _, _ = engine.play_game(bot1, bot2, random.Random(game_number))\n",
    "    if winner_id == rdeep_ML:\n",
    "        win_rdeepML += 1\n",
    "    if game_number % 50 == 0:\n",
    "        print(str(game_number) + \" Game has finished\")\n",
    "    rdeep_ML_count += [sum(rdeep_ML.count)/len(rdeep_ML.count)]\n",
    "    KNN_prediction += [rdeep_ML.KNN_count[1]/sum(rdeep_ML.KNN_count)]\n",
    "for game_number in range(1, amount + 1):\n",
    "    #rdeep_ML = bot1 = RdeepMLBot(num_samples=samples, depth=depth, rand=random.Random(4564654644))\n",
    "    rdeep = bot1 = RdeepBot(num_samples=6, depth=6, rand=random.Random(4564654644))\n",
    "    bot2 = bot\n",
    "    if game_number % 2 == 0:\n",
    "        bot1, bot2 = bot2, bot1\n",
    "    winner_id, _, _ = engine.play_game(bot1, bot2, random.Random(game_number))\n",
    "    if winner_id == rdeep:\n",
    "        win_rdeep += 1\n",
    "    if game_number % 50 == 0:\n",
    "        print(str(game_number) + \" Game has finished\")\n",
    "    rdeep_count += [sum(rdeep.count)/len(rdeep.count)]"
   ]
  },
  {
   "cell_type": "code",
   "execution_count": 10,
   "metadata": {},
   "outputs": [
    {
     "data": {
      "text/plain": [
       "(55.04007936507936, 56.23533068783066, 57.181349206349225)"
      ]
     },
     "execution_count": 10,
     "metadata": {},
     "output_type": "execute_result"
    }
   ],
   "source": [
    "sum(KNN_prediction), sum(rdeep_count),sum(rdeep_ML_count)"
   ]
  }
 ],
 "metadata": {
  "kernelspec": {
   "display_name": "IS_project",
   "language": "python",
   "name": "python3"
  },
  "language_info": {
   "codemirror_mode": {
    "name": "ipython",
    "version": 3
   },
   "file_extension": ".py",
   "mimetype": "text/x-python",
   "name": "python",
   "nbconvert_exporter": "python",
   "pygments_lexer": "ipython3",
   "version": "3.9.15"
  },
  "orig_nbformat": 4,
  "vscode": {
   "interpreter": {
    "hash": "b3408477556b0d8e7fb09b204af22cf9f1e2af8d9fde5291d3e1085fb9b210e8"
   }
  }
 },
 "nbformat": 4,
 "nbformat_minor": 2
}
